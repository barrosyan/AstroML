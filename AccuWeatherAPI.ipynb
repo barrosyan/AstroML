{
 "cells": [
  {
   "cell_type": "code",
   "execution_count": 2,
   "metadata": {},
   "outputs": [],
   "source": [
    "import requests"
   ]
  },
  {
   "attachments": {},
   "cell_type": "markdown",
   "metadata": {},
   "source": [
    "First, we have to stablish our token and authentication info."
   ]
  },
  {
   "cell_type": "code",
   "execution_count": 3,
   "metadata": {},
   "outputs": [],
   "source": [
    "#Origin URL\n",
    "URL = \"http://dataservice.accuweather.com/forecasts/v1/minute\"\n",
    "# location given here\n",
    "latitude=input('Set the latitude')\n",
    "longitude=input('Set the longitude')\n",
    "q=latitude+','+longitude\n",
    "apikey=input('Set your api key here')\n",
    "language=input('choose your language')\n",
    "# defining a params dict for the parameters to be sent to the API\n",
    "PARAMS = {'q':q, 'apikey':apikey, 'language':language}"
   ]
  },
  {
   "attachments": {},
   "cell_type": "markdown",
   "metadata": {},
   "source": [
    "Now, we can call the request package to get our data into Json format."
   ]
  },
  {
   "cell_type": "code",
   "execution_count": 4,
   "metadata": {},
   "outputs": [],
   "source": [
    "# sending get request and saving the response as response object\n",
    "r = requests.get(url = URL, params = PARAMS)\n",
    "# extracting data in json format\n",
    "data = r.json()"
   ]
  },
  {
   "attachments": {},
   "cell_type": "markdown",
   "metadata": {},
   "source": [
    "Finally, the results!"
   ]
  },
  {
   "cell_type": "code",
   "execution_count": 5,
   "metadata": {},
   "outputs": [
    {
     "data": {
      "text/plain": [
       "{'Summary': {'Phrase': 'No precipitation for at least 120 min',\n",
       "  'Type': None,\n",
       "  'TypeId': 0},\n",
       " 'Summaries': [{'StartMinute': 0,\n",
       "   'EndMinute': 119,\n",
       "   'CountMinute': 120,\n",
       "   'MinuteText': 'No precipitation for at least %MINUTE_VALUE min',\n",
       "   'Type': None,\n",
       "   'TypeId': 0}],\n",
       " 'Link': 'http://www.accuweather.com/en/br/petropolis/2725548/minute-weather-forecast/2725548?lang=en-us&lat=-5.78&lon=-35.2',\n",
       " 'MobileLink': 'http://www.accuweather.com/en/br/petropolis/2725548/minute-weather-forecast/2725548?lang=en-us&lat=-5.78&lon=-35.2'}"
      ]
     },
     "execution_count": 5,
     "metadata": {},
     "output_type": "execute_result"
    }
   ],
   "source": [
    "data"
   ]
  }
 ],
 "metadata": {
  "kernelspec": {
   "display_name": "Python 3",
   "language": "python",
   "name": "python3"
  },
  "language_info": {
   "codemirror_mode": {
    "name": "ipython",
    "version": 3
   },
   "file_extension": ".py",
   "mimetype": "text/x-python",
   "name": "python",
   "nbconvert_exporter": "python",
   "pygments_lexer": "ipython3",
   "version": "3.10.8"
  },
  "orig_nbformat": 4,
  "vscode": {
   "interpreter": {
    "hash": "53c645b2bd2f0a0b1a9a7868c48add659a8fe1fe8abc40295b0c2b7f518b63b2"
   }
  }
 },
 "nbformat": 4,
 "nbformat_minor": 2
}
